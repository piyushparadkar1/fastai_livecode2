{
 "cells": [
  {
   "cell_type": "markdown",
   "id": "0afe1345-8d1b-4ccf-be70-bb4bb9567bc2",
   "metadata": {},
   "source": [
    "## hello"
   ]
  },
  {
   "cell_type": "markdown",
   "id": "67c48511-8aa9-4774-92a7-02d77ad8cce4",
   "metadata": {},
   "source": [
    "FDASJKL"
   ]
  },
  {
   "cell_type": "code",
   "execution_count": null,
   "id": "2f8fcce6-fca8-4110-92ad-c8e3b2fdcc9c",
   "metadata": {},
   "outputs": [],
   "source": [
    "FASDK"
   ]
  }
 ],
 "metadata": {
  "kernelspec": {
   "display_name": "Python 3 (ipykernel)",
   "language": "python",
   "name": "python3"
  },
  "language_info": {
   "codemirror_mode": {
    "name": "ipython",
    "version": 3
   },
   "file_extension": ".py",
   "mimetype": "text/x-python",
   "name": "python",
   "nbconvert_exporter": "python",
   "pygments_lexer": "ipython3",
   "version": "3.10.10"
  }
 },
 "nbformat": 4,
 "nbformat_minor": 5
}
